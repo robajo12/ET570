{
  "nbformat": 4,
  "nbformat_minor": 0,
  "metadata": {
    "colab": {
      "name": "Unit2_L5_Assignment.ipynb",
      "provenance": [],
      "authorship_tag": "ABX9TyNK0jU5hdRzz5EQbYI3+NzR",
      "include_colab_link": true
    },
    "kernelspec": {
      "name": "python3",
      "display_name": "Python 3"
    },
    "language_info": {
      "name": "python"
    }
  },
  "cells": [
    {
      "cell_type": "markdown",
      "metadata": {
        "id": "view-in-github",
        "colab_type": "text"
      },
      "source": [
        "<a href=\"https://colab.research.google.com/github/robajo12/ET570/blob/master/Python/Unit2_L5_Assignment.ipynb\" target=\"_parent\"><img src=\"https://colab.research.google.com/assets/colab-badge.svg\" alt=\"Open In Colab\"/></a>"
      ]
    },
    {
      "cell_type": "code",
      "metadata": {
        "id": "L8wQryu7dpW4"
      },
      "source": [
        ""
      ],
      "execution_count": null,
      "outputs": []
    },
    {
      "cell_type": "markdown",
      "metadata": {
        "id": "Im8D8Vkkd9W4"
      },
      "source": [
        "1/ Make a list of 5 or more usernames, including an admin account.  Imagine you are writing code that will welcome people to your application on login. Loop through the list and print your greeting.\n",
        "a.\tIf the admin account logs in, give them a special greeting.  They’re the admin, after all!\n",
        "b.\tOther users can get the generic greeting\n"
      ]
    },
    {
      "cell_type": "code",
      "metadata": {
        "id": "esEZR565iQrG"
      },
      "source": [
        ""
      ],
      "execution_count": null,
      "outputs": []
    },
    {
      "cell_type": "code",
      "metadata": {
        "colab": {
          "base_uri": "https://localhost:8080/"
        },
        "id": "KaK4w1cZeBOG",
        "outputId": "a6b5ae66-068d-43b2-bc60-c7c2f0d9d4d3"
      },
      "source": [
        "usernames = ['robajo','bjoe','decara', 'molola1','joyra1'] \n",
        "for user in usernames:\n",
        "  if user == 'molola1':\n",
        "    print(\"Welcome \" + user.title() +  \", you are the Admin and you have full access on the system.\")\n",
        "  else:\n",
        "       print(\"Hello!\" + user.title(), \" you are logged in  as a guest.\")\n",
        "       \n",
        "\n",
        "\n"
      ],
      "execution_count": 13,
      "outputs": [
        {
          "output_type": "stream",
          "text": [
            "Hello!Robajo  you are logged in  as a guest.\n",
            "Hello!Bjoe  you are logged in  as a guest.\n",
            "Hello!Decara  you are logged in  as a guest.\n",
            "Welcome Molola1, you are the Admin and you have full access on the system.\n",
            "Hello!Joyra1  you are logged in  as a guest.\n"
          ],
          "name": "stdout"
        }
      ]
    },
    {
      "cell_type": "markdown",
      "metadata": {
        "id": "hCJvLVthzn-W"
      },
      "source": [
        "2/ Store numbers 1-10 in a list\n",
        "a.\tLoop through the list\n",
        "\n"
      ]
    },
    {
      "cell_type": "code",
      "metadata": {
        "colab": {
          "base_uri": "https://localhost:8080/"
        },
        "id": "VWuaNiBZzxF5",
        "outputId": "ca6ad099-48c9-4027-c778-d4fbf1d54952"
      },
      "source": [
        "lst= [3,7,9,1,5,10,4,8,2,6]\n",
        "for num in lst:\n",
        "    print (num)"
      ],
      "execution_count": 16,
      "outputs": [
        {
          "output_type": "stream",
          "text": [
            "3\n",
            "7\n",
            "9\n",
            "1\n",
            "5\n",
            "10\n",
            "4\n",
            "8\n",
            "2\n",
            "6\n"
          ],
          "name": "stdout"
        }
      ]
    },
    {
      "cell_type": "markdown",
      "metadata": {
        "id": "__P0CmnF-uNZ"
      },
      "source": [
        "b.\tUse an if-elif-else chain inside your loop to print the ordinal ending for each number – for example – 1st, 2nd, 3rd … etc."
      ]
    },
    {
      "cell_type": "code",
      "metadata": {
        "colab": {
          "base_uri": "https://localhost:8080/"
        },
        "id": "Q3eyf86q-x9h",
        "outputId": "ac17f1f6-5135-4c86-b583-e4deeac87d74"
      },
      "source": [
        "lst= [3,7,9,1,5,10,4,8,2,6]\n",
        "for number in lst:\n",
        "  if lst.index(number) == 0:\n",
        "     print(str(number) + \" \\t= \" + str((lst.index(number)+1)) + \"st element.\")\n",
        "  elif lst.index(number) == 1:\n",
        "       print(str(number) + \" \\t= \" + str((lst.index(number)+1)) + \"nd element.\")\n",
        "  elif lst.index(number) == 2:\n",
        "    print(str(number) + \" \\t= \" + str((lst.index(number)+1)) + \"rd element.\")\n",
        "  elif lst.index(number) == 3:\n",
        "    print(str(number) + \" \\t= \" + str((lst.index(number)+1)) + \"th element.\")\n",
        "  elif lst.index(number) == 4:\n",
        "    print(str(number) + \" \\t= \" + str((lst.index(number)+1)) + \"th element.\")\n",
        "  elif lst.index(number) == 5:\n",
        "    print(str(number) + \" \\t= \" + str((lst.index(number)+1)) + \"th element.\")\n",
        "  elif lst.index(number) == 6:\n",
        "    print(str(number) + \" \\t= \" + str((lst.index(number)+1)) + \"th element.\")\n",
        "  elif lst.index(number) == 7:\n",
        "    print(str(number) + \" \\t= \" + str((lst.index(number)+1)) + \"th element.\")\n",
        "  elif lst.index(number) == 8:\n",
        "    print(str(number) + \" \\t= \" + str((lst.index(number)+1)) + \"th element.\")\n",
        "  else:\n",
        "    print(str(number) + \" \\t= \" + str((lst.index(number)+1)) + \"th element.\")"
      ],
      "execution_count": 36,
      "outputs": [
        {
          "output_type": "stream",
          "text": [
            "3 \t= 1st element.\n",
            "7 \t= 2nd element.\n",
            "9 \t= 3rd element.\n",
            "1 \t= 4th element.\n",
            "5 \t= 5th element.\n",
            "10 \t= 6th element.\n",
            "4 \t= 7th element.\n",
            "8 \t= 8th element.\n",
            "2 \t= 9th element.\n",
            "6 \t= 10th element.\n"
          ],
          "name": "stdout"
        }
      ]
    },
    {
      "cell_type": "markdown",
      "metadata": {
        "id": "V0bz0ro_JNvd"
      },
      "source": [
        ""
      ]
    }
  ]
}