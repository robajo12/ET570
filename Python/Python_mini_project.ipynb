{
  "nbformat": 4,
  "nbformat_minor": 0,
  "metadata": {
    "colab": {
      "name": "Python_mini_project.ipynb",
      "provenance": [],
      "authorship_tag": "ABX9TyPZAV19ffxCJBq+M7MvtqdH",
      "include_colab_link": true
    },
    "kernelspec": {
      "name": "python3",
      "display_name": "Python 3"
    },
    "language_info": {
      "name": "python"
    }
  },
  "cells": [
    {
      "cell_type": "markdown",
      "metadata": {
        "id": "view-in-github",
        "colab_type": "text"
      },
      "source": [
        "<a href=\"https://colab.research.google.com/github/robajo12/ET570/blob/master/Python/Python_mini_project.ipynb\" target=\"_parent\"><img src=\"https://colab.research.google.com/assets/colab-badge.svg\" alt=\"Open In Colab\"/></a>"
      ]
    },
    {
      "cell_type": "code",
      "metadata": {
        "colab": {
          "base_uri": "https://localhost:8080/"
        },
        "id": "dQqVWY-lBGsb",
        "outputId": "4b736790-5572-461a-f3be-a9bb815b7ef6"
      },
      "source": [
        "\n",
        "prompt1 = \"Hi {}! what is your choice: 'rock', 'scissors' or 'paper', enter 'exit' to quit?: \"\n",
        "prompt2 = \"Do you want to start a new game? I will repeat it until you type 'y': \"\n",
        "usr1_choice = \"\"\n",
        "usr2_choice = \"\"\n",
        "message =\" \"\n",
        "\n",
        "while (usr1_choice != 'exit' or usr2_choice != 'exit'):\n",
        "    usr1 = input (\"what is the first player's name: \") \n",
        "    usr1_choice = input (prompt.format(usr1))\n",
        "    usr2 = input (\" and what is the second player's name: \")\n",
        "    usr2_choice = input (prompt.format(usr2))\n",
        "   \n",
        "    if (usr1_choice == \"rock\" and usr2_choice == \"paper\"):\n",
        "        print (\"Congratulation \" + usr2 + \"! You win.\")\n",
        "        while (message != 'y'):\n",
        "          message = input(prompt2)\n",
        "        \n",
        "    elif (usr1_choice == \"rock\" and usr2_choice == \"scissors\"):\n",
        "        print (\"Congratulation \" + usr1 + \"! You win.\")\n",
        "        while (message != 'y'):\n",
        "          message = input(prompt2)\n",
        "\n",
        "    elif (usr1_choice == \"paper\" and usr2_choice == \"rock\"):\n",
        "      print (\"Congratulation \" + usr1 + \"! You win.\")\n",
        "      while (message != 'y'):\n",
        "        message = input(prompt2)\n",
        "\n",
        "    elif (usr1_choice == \"paper\" and usr2_choice == \"scissors\"):\n",
        "        print (\"Congratulation \" + usr2 + \"! You win.\")\n",
        "        while (message != 'y'):\n",
        "          message = input(prompt2)\n",
        "      \n",
        "    elif usr1_choice == \"scissors\" and usr2_choice == \"rock\":\n",
        "        print (\"Congratulation \" + usr2 + \"! You win.\")\n",
        "        while (message != 'y'):\n",
        "            message = input(prompt2)\n",
        "\n",
        "    elif usr1_choice == \"scissors\" and usr2_choice == \"paper\":\n",
        "       print (\"Congratulation \" + usr1 + \"! You win.\")\n",
        "       while (message != 'y'):\n",
        "            message = input(prompt2)\n",
        "       \n",
        "    elif (usr1_choice == usr2_choice):\n",
        "       print (\"Nobody wins. Try again\")\n",
        "       while (message != 'y'):\n",
        "            message = input(prompt2)\n",
        "\n",
        "    elif (usr1_choice == 'exit' or usr2_choice == 'exit'):\n",
        "      print(\"You chose to exit the game! The game is over\")\n",
        "      print(\"Restart the program\")\n",
        "      break\n",
        "\n",
        "    elif ((usr1_choice != 'rock' or usr1_choice != 'paper'or usr1_choice != 'scissors') and (usr2_choice != 'rock' or usr2_choice != 'paper'or usr2_choice != 'scissors')): \n",
        "      print(\"sorry! Invalid input.\")\n",
        "      print(\"Restart the program\")\n",
        "      break\n",
        "\n",
        "\n",
        "       \n",
        "    \n",
        "\n",
        "  \n",
        " \n"
      ],
      "execution_count": 101,
      "outputs": [
        {
          "output_type": "stream",
          "text": [
            "what is the first player's name: Rock\n",
            " Hi Rock! what is your choice: 'rock', 'scissors' or 'paper', enter 'exit' to quit? paper\n",
            " and what is the second player's name: Cecilia\n",
            " Hi Cecilia! what is your choice: 'rock', 'scissors' or 'paper', enter 'exit' to quit? scissors\n",
            "Congratulation Cecilia! You win.\n",
            "Do you want to start a new game? I will repeat it until you type 'y': y\n",
            "what is the first player's name: Yann\n",
            " Hi Yann! what is your choice: 'rock', 'scissors' or 'paper', enter 'exit' to quit? exit\n",
            " and what is the second player's name: Ann\n",
            " Hi Ann! what is your choice: 'rock', 'scissors' or 'paper', enter 'exit' to quit? rock\n",
            "You chose to exit the game! The game is over\n",
            "Restart the program\n"
          ],
          "name": "stdout"
        }
      ]
    },
    {
      "cell_type": "markdown",
      "metadata": {
        "id": "cxNhrWmFC6-t"
      },
      "source": [
        ""
      ]
    }
  ]
}