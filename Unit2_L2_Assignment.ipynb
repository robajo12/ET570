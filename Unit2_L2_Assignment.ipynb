{
  "nbformat": 4,
  "nbformat_minor": 0,
  "metadata": {
    "colab": {
      "name": "Unit2_L2_Assignment.ipynb",
      "provenance": [],
      "collapsed_sections": [],
      "authorship_tag": "ABX9TyNAnG87dWUcA+s5JYLlQIgb",
      "include_colab_link": true
    },
    "kernelspec": {
      "name": "python3",
      "display_name": "Python 3"
    },
    "language_info": {
      "name": "python"
    }
  },
  "cells": [
    {
      "cell_type": "markdown",
      "metadata": {
        "id": "view-in-github",
        "colab_type": "text"
      },
      "source": [
        "<a href=\"https://colab.research.google.com/github/robajo12/ET570/blob/master/Unit2_L2_Assignment.ipynb\" target=\"_parent\"><img src=\"https://colab.research.google.com/assets/colab-badge.svg\" alt=\"Open In Colab\"/></a>"
      ]
    },
    {
      "cell_type": "code",
      "metadata": {
        "id": "-tWlKHi98Gdb"
      },
      "source": [
        ""
      ],
      "execution_count": null,
      "outputs": []
    },
    {
      "cell_type": "markdown",
      "metadata": {
        "id": "fvaD1yIE8q4k"
      },
      "source": [
        "1/ What is Python and why is it useful?\n",
        "\n",
        "Python is an interpreted high-level general-purpose and interactive object-oriented programming language with dynamic semantics. Python is useful because it is a strong and dynamically-typed language and focused on reliability and productiivity. it also has every variable as an object and has a dynamic community and user group.\n",
        "\n",
        "2/ Are the following variable names allowed in python?\n",
        "\n",
        "Only Greeting_message, Message_1 and \tFull_name are variable names allowed in python on the list.\n",
        "\n",
        "3/ Create a variable that holds the string “hello there!”\n",
        "\n",
        "msg = \"hello there!\"\n"
      ]
    },
    {
      "cell_type": "code",
      "metadata": {
        "colab": {
          "base_uri": "https://localhost:8080/"
        },
        "id": "QLIYq_IDDTI2",
        "outputId": "a0d92c71-fe93-4ce5-f7d5-73b945139343"
      },
      "source": [
        "msg = \"hello there!\"\n",
        "print (msg)"
      ],
      "execution_count": 1,
      "outputs": [
        {
          "output_type": "stream",
          "text": [
            "hello there!\n"
          ],
          "name": "stdout"
        }
      ]
    },
    {
      "cell_type": "markdown",
      "metadata": {
        "id": "9-FbYtK_DfbM"
      },
      "source": [
        "4/\tCreate a variable for first name, last name and an email extension.  Concatenating all three together to form an email address.  For example: firstnamelastname@gmail.com\n",
        "\n"
      ]
    },
    {
      "cell_type": "code",
      "metadata": {
        "colab": {
          "base_uri": "https://localhost:8080/"
        },
        "id": "39ikY-X6Dzjb",
        "outputId": "654df670-7333-49bb-85d6-1111cf74e6d7"
      },
      "source": [
        "firstName = \"John\"\n",
        "lastName = \"Smith\"\n",
        "emailExt = \"@gmail.com\"\n",
        "email = firstName + lastName + emailExt\n",
        "print (email)"
      ],
      "execution_count": 5,
      "outputs": [
        {
          "output_type": "stream",
          "text": [
            "JohnSmith@gmail.com\n"
          ],
          "name": "stdout"
        }
      ]
    },
    {
      "cell_type": "markdown",
      "metadata": {
        "id": "Us66IP66FIxi"
      },
      "source": [
        "5/ Store someone you know name in a variable called name.  Print their name in lower and uppercase using a method.\n"
      ]
    },
    {
      "cell_type": "code",
      "metadata": {
        "colab": {
          "base_uri": "https://localhost:8080/"
        },
        "id": "BmJzpdEoFSdn",
        "outputId": "3c5e900b-bb28-4c7b-ac99-5770c21c6493"
      },
      "source": [
        "name = \"Habib Maroane\"\n",
        "print(name.upper())\n",
        "print(name.lower())"
      ],
      "execution_count": 7,
      "outputs": [
        {
          "output_type": "stream",
          "text": [
            "HABIB MAROANE\n",
            "habib maroane\n"
          ],
          "name": "stdout"
        }
      ]
    },
    {
      "cell_type": "markdown",
      "metadata": {
        "id": "6-eDPqlnFxtX"
      },
      "source": [
        "6/ Using a variable, ask your friend if they want to hang out on the 15th of the month.  For example, “Do you want to hang out on the 15th of this month?”  You should have to convert the number to a string."
      ]
    },
    {
      "cell_type": "code",
      "metadata": {
        "colab": {
          "base_uri": "https://localhost:8080/"
        },
        "id": "WIpvmG6IF8T0",
        "outputId": "9a440758-92a9-4c6a-96d5-00133812052f"
      },
      "source": [
        "date = 15\n",
        "message = \"Hi Joe! Do you want to hang out on the \" + str(date) + \"th of August?\"\n",
        "print(message)"
      ],
      "execution_count": 8,
      "outputs": [
        {
          "output_type": "stream",
          "text": [
            "Hi Joe! Do you want to hang out on the 15th of August?\n"
          ],
          "name": "stdout"
        }
      ]
    }
  ]
}